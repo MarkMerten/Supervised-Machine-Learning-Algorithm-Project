{
 "cells": [
  {
   "cell_type": "markdown",
   "id": "4aa82681",
   "metadata": {},
   "source": [
    "# Classifiers Applied to Automobile MPG Dataset"
   ]
  },
  {
   "cell_type": "markdown",
   "id": "8261da73",
   "metadata": {},
   "source": [
    "Auto MPG Dataset: https://archive.ics.uci.edu/dataset/9/auto+mpg"
   ]
  },
  {
   "cell_type": "code",
   "execution_count": 1,
   "id": "d7f5712d",
   "metadata": {},
   "outputs": [],
   "source": [
    "import pandas as pd\n",
    "import numpy as np\n",
    "from sklearn.model_selection import train_test_split, GridSearchCV\n",
    "from sklearn.preprocessing import StandardScaler\n",
    "from sklearn.ensemble import RandomForestClassifier\n",
    "from sklearn.svm import SVC\n",
    "from sklearn.neighbors import KNeighborsClassifier\n",
    "from sklearn.tree import DecisionTreeClassifier\n",
    "from sklearn.metrics import accuracy_score"
   ]
  },
  {
   "cell_type": "code",
   "execution_count": 2,
   "id": "3db6b586",
   "metadata": {},
   "outputs": [],
   "source": [
    "# Load and preprocess the data\n",
    "file_path = 'auto-mpg.data'\n",
    "columns = ['mpg', 'cylinders', 'displacement', 'horsepower', 'weight', 'acceleration', 'model year', 'origin', 'car name']\n",
    "data = pd.read_csv(file_path, delim_whitespace=True, names=columns)\n",
    "\n",
    "data['horsepower'].replace('?', np.nan, inplace=True)\n",
    "data.dropna(subset=['horsepower'], inplace=True)\n",
    "data['horsepower'] = data['horsepower'].astype(float)\n",
    "\n",
    "median_mpg = data['mpg'].median()\n",
    "data['mpg_high'] = (data['mpg'] > median_mpg).astype(int)\n",
    "data.drop(['mpg', 'car name'], axis=1, inplace=True)\n",
    "\n",
    "X = data.drop('mpg_high', axis=1)\n",
    "Y = data['mpg_high']"
   ]
  },
  {
   "cell_type": "code",
   "execution_count": 3,
   "id": "389b8d50",
   "metadata": {},
   "outputs": [],
   "source": [
    "# Function for running trials\n",
    "def run_trials(X, Y, classifier, param_grid, test_sizes):\n",
    "    results = []\n",
    "    for test_size in test_sizes:\n",
    "        for trial in range(3):  # 3 trials\n",
    "            # Data splitting and scaling\n",
    "            X_train, X_test, Y_train, Y_test = train_test_split(X, Y, test_size=test_size, random_state=42)\n",
    "            scaler = StandardScaler()\n",
    "            X_train_scaled = scaler.fit_transform(X_train)\n",
    "            X_test_scaled = scaler.transform(X_test)\n",
    "\n",
    "            # Hyperparameter tuning\n",
    "            grid_search = GridSearchCV(classifier, param_grid, cv=5, scoring='accuracy')\n",
    "            grid_search.fit(X_train_scaled, Y_train)\n",
    "\n",
    "            best_model = grid_search.best_estimator_\n",
    "            train_accuracy = accuracy_score(Y_train, best_model.predict(X_train_scaled))\n",
    "            test_accuracy = accuracy_score(Y_test, best_model.predict(X_test_scaled))\n",
    "            results.append((train_accuracy, test_accuracy, grid_search.best_params_))\n",
    "            # Averaging results\n",
    "    avg_train_accuracy = np.mean([result[0] for result in results])\n",
    "    avg_test_accuracy = np.mean([result[1] for result in results])\n",
    "    best_params = results[np.argmax([result[1] for result in results])][2]\n",
    "\n",
    "    return avg_train_accuracy, avg_test_accuracy, best_params"
   ]
  },
  {
   "cell_type": "code",
   "execution_count": 4,
   "id": "845ee958",
   "metadata": {},
   "outputs": [],
   "source": [
    "# Parameter grids for classifiers\n",
    "param_grid_rf = {'n_estimators': [10, 50, 100], 'max_depth': [None, 10, 20]}\n",
    "param_grid_svm = {'C': [0.1, 1, 10], 'gamma': [1, 0.1, 0.01]}\n",
    "param_grid_knn = {'n_neighbors': [3, 5, 7]}\n",
    "param_grid_dt = {'max_depth': [None, 10, 20], 'min_samples_split': [2, 5, 10]}"
   ]
  },
  {
   "cell_type": "code",
   "execution_count": 5,
   "id": "3774ef91",
   "metadata": {},
   "outputs": [],
   "source": [
    "# Running trials for each classifier\n",
    "test_sizes = [0.2, 0.5, 0.8]\n",
    "classifiers = {\n",
    "    \"Random Forest\": (RandomForestClassifier(random_state=42), param_grid_rf),\n",
    "    \"SVM\": (SVC(random_state=42), param_grid_svm),\n",
    "    \"KNN\": (KNeighborsClassifier(), param_grid_knn),\n",
    "    \"Decision Tree\": (DecisionTreeClassifier(random_state=42), param_grid_dt)\n",
    "}"
   ]
  },
  {
   "cell_type": "code",
   "execution_count": 6,
   "id": "342e949a",
   "metadata": {},
   "outputs": [],
   "source": [
    "final_results = {}\n",
    "for name, (classifier, param_grid) in classifiers.items():\n",
    "    train_acc, test_acc, best_params = run_trials(X, Y, classifier, param_grid, test_sizes)\n",
    "    final_results[name] = {\n",
    "        \"Average Train Accuracy\": train_acc, \n",
    "        \"Average Test Accuracy\": test_acc, \n",
    "        \"Best Params\": best_params\n",
    "    }"
   ]
  },
  {
   "cell_type": "code",
   "execution_count": 7,
   "id": "4773f773",
   "metadata": {},
   "outputs": [
    {
     "name": "stdout",
     "output_type": "stream",
     "text": [
      "Random Forest Classifier Results:\n",
      "Average Train Accuracy: 1.0\n",
      "Average Test Accuracy: 0.9004714681163927\n",
      "Best Params: {'max_depth': None, 'n_estimators': 100}\n",
      "\n",
      "SVM Classifier Results:\n",
      "Average Train Accuracy: 0.9701673902951858\n",
      "Average Test Accuracy: 0.8520062624743521\n",
      "Best Params: {'C': 0.1, 'gamma': 0.1}\n",
      "\n",
      "KNN Classifier Results:\n",
      "Average Train Accuracy: 0.9475720410225202\n",
      "Average Test Accuracy: 0.89907889302621\n",
      "Best Params: {'n_neighbors': 7}\n",
      "\n",
      "Decision Tree Classifier Results:\n",
      "Average Train Accuracy: 0.9850931689133423\n",
      "Average Test Accuracy: 0.8698848643706456\n",
      "Best Params: {'max_depth': None, 'min_samples_split': 10}\n",
      "\n"
     ]
    }
   ],
   "source": [
    "# Display final results\n",
    "for classifier, results in final_results.items():\n",
    "    print(f\"{classifier} Classifier Results:\")\n",
    "    for key, value in results.items():\n",
    "        print(f\"{key}: {value}\")\n",
    "    print()"
   ]
  }
 ],
 "metadata": {
  "kernelspec": {
   "display_name": "Python 3 (ipykernel)",
   "language": "python",
   "name": "python3"
  },
  "language_info": {
   "codemirror_mode": {
    "name": "ipython",
    "version": 3
   },
   "file_extension": ".py",
   "mimetype": "text/x-python",
   "name": "python",
   "nbconvert_exporter": "python",
   "pygments_lexer": "ipython3",
   "version": "3.11.4"
  }
 },
 "nbformat": 4,
 "nbformat_minor": 5
}
